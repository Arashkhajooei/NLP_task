{
  "nbformat": 4,
  "nbformat_minor": 0,
  "metadata": {
    "colab": {
      "provenance": [],
      "authorship_tag": "ABX9TyPwepMSslGkHA3tcayXELQp",
      "include_colab_link": true
    },
    "kernelspec": {
      "name": "python3",
      "display_name": "Python 3"
    },
    "language_info": {
      "name": "python"
    }
  },
  "cells": [
    {
      "cell_type": "markdown",
      "metadata": {
        "id": "view-in-github",
        "colab_type": "text"
      },
      "source": [
        "<a href=\"https://colab.research.google.com/github/arashkhgit/NLP_task/blob/main/Custom_database.ipynb\" target=\"_parent\"><img src=\"https://colab.research.google.com/assets/colab-badge.svg\" alt=\"Open In Colab\"/></a>"
      ]
    },
    {
      "cell_type": "code",
      "execution_count": 10,
      "metadata": {
        "colab": {
          "base_uri": "https://localhost:8080/"
        },
        "id": "GS3UN30zbZ-t",
        "outputId": "d71d4b0c-26cc-4be4-97c9-012dda464e4e"
      },
      "outputs": [
        {
          "output_type": "stream",
          "name": "stdout",
          "text": [
            "Accuracy: 75.0\n"
          ]
        },
        {
          "output_type": "stream",
          "name": "stderr",
          "text": [
            "[nltk_data] Downloading package stopwords to /root/nltk_data...\n",
            "[nltk_data]   Package stopwords is already up-to-date!\n",
            "[nltk_data] Downloading package punkt to /root/nltk_data...\n",
            "[nltk_data]   Package punkt is already up-to-date!\n"
          ]
        }
      ],
      "source": [
        "import pandas as pd\n",
        "from sklearn.feature_extraction.text import CountVectorizer\n",
        "from sklearn.naive_bayes import MultinomialNB\n",
        "from sklearn.model_selection import train_test_split\n",
        "from sklearn.metrics import accuracy_score\n",
        "import nltk\n",
        "from nltk.corpus import stopwords\n",
        "from nltk.tokenize import word_tokenize\n",
        "\n",
        "# Download stopwords and punkt\n",
        "nltk.download('stopwords')\n",
        "nltk.download('punkt')\n",
        "\n",
        "data = [\n",
        "    (\"I am feeling sad and hopeless today\", \"sadness\"),\n",
        "    (\"I feel very relaxed and fine today\", \"happy\"),\n",
        "    (\"Today is my lucky day\", \"happy\"),\n",
        "    (\"Today was boring as hell\", \"sadness\"),\n",
        "    (\"I can't do my job anymore\", \"sadness\"),\n",
        "    (\"I watched a fun movie\", \"happy\"),\n",
        "    (\"I feel relaxed and lucky after my job interview\", \"happy\"),\n",
        "    (\"This movie was boring and predictable with no fun\", \"sadness\"),\n",
        "    (\"I can't believe I lost my wallet.\", \"sadness\"),\n",
        "    (\"The news about the accident is really heartbreaking.\", \"sadness\"),\n",
        "    (\"It's a gloomy day outside, and I'm not in the mood.\", \"sadness\"),\n",
        "    (\"I can't believe I lost my wallet.\", \"happy\"),\n",
        "    (\"I feel energetic today.\", \"happy\"),\n",
        "    (\"I am overwhelmed with joy!\", \"happy\"),\n",
        "    (\"I'm feeling really down today.\", \"sadness\"),\n",
        "    (\"The surprise party made me so happy!\", \"happy\"),\n",
        "    (\"My pet's loss is breaking my heart.\", \"sadness\"),\n",
        "    (\"I feel so blessed and content.\", \"happy\"),\n",
        "    (\"The concert was a blast, I'm on cloud nine!\", \"happy\"),\n",
        "    (\"This news has left me devastated.\", \"sadness\"),\n",
        "    # Add more examples here...\n",
        "]\n",
        "\n",
        "\n",
        "# Convert data to a DataFrame\n",
        "df = pd.DataFrame(data, columns=[\"sentence\", \"feeling\"])\n",
        "\n",
        "# Split data into training and testing sets\n",
        "train_data, test_data = train_test_split(df, test_size=0.2, random_state=42)\n",
        "\n",
        "# Preprocess text data using NLTK\n",
        "stop_words = set(stopwords.words('english'))\n",
        "def preprocess_text(text):\n",
        "    tokens = word_tokenize(text)\n",
        "    tokens = [word for word in tokens if word.lower() not in stop_words]\n",
        "    return ' '.join(tokens)\n",
        "\n",
        "train_data['sentence'] = train_data['sentence'].apply(preprocess_text)\n",
        "test_data['sentence'] = test_data['sentence'].apply(preprocess_text)\n",
        "\n",
        "# Convert text data to numerical features\n",
        "vectorizer = CountVectorizer()\n",
        "X_train = vectorizer.fit_transform(train_data[\"sentence\"])\n",
        "X_test = vectorizer.transform(test_data[\"sentence\"])\n",
        "\n",
        "# Train a Naive Bayes classifier\n",
        "nb_classifier = MultinomialNB()\n",
        "nb_classifier.fit(X_train, train_data[\"feeling\"])\n",
        "\n",
        "# Predict emotions on test data\n",
        "predictions = nb_classifier.predict(X_test)\n",
        "\n",
        "# Calculate accuracy\n",
        "accuracy = accuracy_score(test_data[\"feeling\"], predictions)\n",
        "print(\"Accuracy:\", accuracy*100)\n"
      ]
    },
    {
      "cell_type": "markdown",
      "source": [
        "# Using SKLEARN"
      ],
      "metadata": {
        "id": "HjqoL7bMfnyE"
      }
    },
    {
      "cell_type": "code",
      "source": [
        "import pandas as pd\n",
        "from sklearn.feature_extraction.text import CountVectorizer\n",
        "from sklearn.naive_bayes import MultinomialNB\n",
        "from sklearn.model_selection import train_test_split\n",
        "from sklearn.metrics import accuracy_score\n",
        "\n",
        "# Define the data\n",
        "data = [\n",
        "    (\"I am feeling sad and hopeless today\", \"sadness\"),\n",
        "    (\"I feel very relaxed and fine today\", \"happy\"),\n",
        "    (\"Today is my lucky day\", \"happy\"),\n",
        "    (\"Today was boring as hell\", \"sadness\"),\n",
        "    (\"I can't do my job anymore\", \"sadness\"),\n",
        "    (\"I watched a fun movie\", \"happy\"),\n",
        "    (\"I feel relaxed and lucky after my job interview\", \"happy\"),\n",
        "    (\"This movie was boring and predictable with no fun\", \"sadness\"),\n",
        "    (\"I can't believe I lost my wallet.\", \"sadness\"),\n",
        "    (\"The news about the accident is really heartbreaking.\", \"sadness\"),\n",
        "    (\"It's a gloomy day outside, and I'm not in the mood.\", \"sadness\"),\n",
        "    (\"I can't believe I lost my wallet.\", \"happy\"),\n",
        "    (\"I feel energetic today.\", \"happy\"),\n",
        "    (\"I am overwhelmed with joy!\", \"happy\"),\n",
        "    (\"I'm feeling really down today.\", \"sadness\"),\n",
        "    (\"The surprise party made me so happy!\", \"happy\"),\n",
        "    (\"My pet's loss is breaking my heart.\", \"sadness\"),\n",
        "    (\"I feel so blessed and content.\", \"happy\"),\n",
        "    (\"The concert was a blast, I'm on cloud nine!\", \"happy\"),\n",
        "    (\"This news has left me devastated.\", \"sadness\"),\n",
        "    # Add more examples here...\n",
        "]\n",
        "\n",
        "# Convert data to a DataFrame\n",
        "df = pd.DataFrame(data, columns=[\"sentence\", \"feeling\"])\n",
        "\n",
        "# Split data into training and testing sets\n",
        "train_data, test_data = train_test_split(df, test_size=0.2, random_state=42)\n",
        "\n",
        "# Convert text data to numerical features\n",
        "vectorizer = CountVectorizer(stop_words='english')\n",
        "X_train = vectorizer.fit_transform(train_data[\"sentence\"])\n",
        "X_test = vectorizer.transform(test_data[\"sentence\"])\n",
        "\n",
        "# Train a Naive Bayes classifier\n",
        "nb_classifier = MultinomialNB()\n",
        "nb_classifier.fit(X_train, train_data[\"feeling\"])\n",
        "\n",
        "# Predict emotions on test data\n",
        "predictions = nb_classifier.predict(X_test)\n",
        "\n",
        "# Calculate accuracy\n",
        "accuracy = accuracy_score(test_data[\"feeling\"], predictions)\n",
        "print(\"Accuracy:\", accuracy)\n"
      ],
      "metadata": {
        "colab": {
          "base_uri": "https://localhost:8080/"
        },
        "id": "nH47LjMAfklZ",
        "outputId": "010d3dfc-1d0b-4220-cec8-ad9858296306"
      },
      "execution_count": 11,
      "outputs": [
        {
          "output_type": "stream",
          "name": "stdout",
          "text": [
            "Accuracy: 0.75\n"
          ]
        }
      ]
    }
  ]
}